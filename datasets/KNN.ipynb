{
 "cells": [
  {
   "cell_type": "code",
   "execution_count": 1,
   "metadata": {},
   "outputs": [],
   "source": [
    "#import all required strings\n",
    "\n",
    "from LiarLiarPreProcessor import LiarLiarPreProcessor\n",
    "import numpy as np"
   ]
  },
  {
   "cell_type": "code",
   "execution_count": 2,
   "metadata": {},
   "outputs": [
    {
     "name": "stderr",
     "output_type": "stream",
     "text": [
      "[nltk_data] Downloading package stopwords to\n",
      "[nltk_data]     /Users/angelayoon/nltk_data...\n",
      "[nltk_data]   Package stopwords is already up-to-date!\n",
      "[nltk_data] Downloading package wordnet to\n",
      "[nltk_data]     /Users/angelayoon/nltk_data...\n",
      "[nltk_data]   Package wordnet is already up-to-date!\n"
     ]
    },
    {
     "data": {
      "text/plain": [
       "True"
      ]
     },
     "execution_count": 2,
     "metadata": {},
     "output_type": "execute_result"
    }
   ],
   "source": [
    "import nltk\n",
    "nltk.download('stopwords')\n",
    "nltk.download('wordnet')"
   ]
  },
  {
   "cell_type": "markdown",
   "metadata": {},
   "source": [
    "# LiarLiarPreProcessor Demo Script\n",
    "The following script demos the capabilities of the Liar Liar pre-processor that we used to encode the data. This is a wrapper of the PreProcessor class designed specifically for the LiarLiar Dataset"
   ]
  },
  {
   "cell_type": "markdown",
   "metadata": {},
   "source": [
    "## Initializing the LiarLiarPreProcessor\n",
    "\n",
    "### Create an instance of the LiarLiarPreProcessor class and import the dataset from a file\n",
    "\n",
    "The preprocessor imports files based on the file name. The file must be located in the \"datasets\" folder. We automatically replace Null and NaN dataset entries with \"N/A\"\n",
    "\n",
    "When loading a dataset, the preProcessor automatically looks for a .tsv file named \"train.tsv\" in the \"datasets\" folder (must be in this folder) with the following column headers\n",
    "1. 'id': the ID of the statement ([ID].json).\n",
    "2. 'label': the label.\n",
    "3. 'statement': the statement.\n",
    "4. 'subjects': the subject(s).\n",
    "5. 'speaker': the speaker.\n",
    "6. 'speaker_job_title': the speaker's job title.\n",
    "7. 'state_info': the state info.\n",
    "8. 'party_affiliation': the party affiliation.\n",
    "\n",
    "Column 9-13: the total credit history count, including the current statement.\n",
    "\n",
    "9. 'count_1', pants on fire counts.\n",
    "10. 'count_2',false counts.\n",
    "11. 'count_3',barely true counts.\n",
    "12. 'count_4',half true counts.\n",
    "13. 'count_5',mostly on fire counts.\n",
    "\n",
    "14. 'context': the context (venue / location of the speech or statement).\n",
    "\n",
    "Asside from this, there are the following options:\n",
    "* replace_Null_Nan: This option automatically replaces an Null or NaN values with 'N/A' in the dataset"
   ]
  },
  {
   "cell_type": "code",
   "execution_count": 3,
   "metadata": {},
   "outputs": [],
   "source": [
    "liar_liar_pre_processor = LiarLiarPreProcessor(verbose=False)\n",
    "\n",
    "#load the training data\n",
    "liar_liar_pre_processor.import_training_data(\n",
    "    file_name=\"train.tsv\",\n",
    "    deliminator='\\t',\n",
    "    custom_headers=None,\n",
    "    replace_Null_NaN=True\n",
    ")"
   ]
  },
  {
   "cell_type": "markdown",
   "metadata": {},
   "source": [
    "### Denoting which column in the dataset corresponds to the labels for each data sample\n",
    "\n",
    "We provide a custom encoding (optional) so that each possible label can be encoded using a unique number. For additional flexibility, the labels (or any set of data for that matter) can be encoded based on the following options:\n",
    "- Standard mapping: Labels are encoded either through the provided encoding_mapping or automatically using a unique integer for each label\n",
    "- normalized mapping: When it makes sense, labels can be normalized so as to range from 0 to 1\n",
    "- binarized mapping: Finally, labels can be binarized to be either 0 or 1. This generally only makes sense with only two labels or if data is specifically constructed to be binarized (ex: mostly true vs mostly false)\n",
    "\n",
    "\n",
    "By default, the labels for each data sample will come from the column titled: 'label' with the encoding as follows (although this can be changed):\n",
    "\n",
    "{'pants-fire':0,\n",
    "'false':1,\n",
    "'barely-true':2,\n",
    "'half-true':3,\n",
    "'mostly-true':4,\n",
    "'true':5}"
   ]
  },
  {
   "cell_type": "code",
   "execution_count": 4,
   "metadata": {},
   "outputs": [],
   "source": [
    "#set the label column\n",
    "liar_liar_pre_processor.set_label_header(\n",
    "    label_header='label',\n",
    "    custom_label_encoding=False,\n",
    "    normalize=False,\n",
    "    binarize=True\n",
    ")"
   ]
  },
  {
   "cell_type": "markdown",
   "metadata": {},
   "source": [
    "## Configuring and Obtaining a Dataset\n",
    "\n",
    "### Configuring a Dataset\n",
    "A data set is configured by supplying the preprocessor with a list of encoder configuration dictionaries\n",
    "\n",
    "### Types of encoders:\n",
    "\n",
    "There are three types of encoders:\n",
    "1. Standard encoder: this is the same encoder that is used to encode the labels, and it includes the same parameters (custom mapping, binarization, normalization)\n",
    "2. Bag-of-words: This encoder performs a bag-of-words encoding. It includes options to clean strings (clean up punctuation, ect), remove stop words (remove common words), and lematize (reduce words down to their simplest forms).\n",
    "3. Credit score encoder: This encoder computes a weighted average and uses the weighted average of the given columns as the encoding (ex: for a credit history score).\n",
    "\n",
    "### Applying Filters:\n",
    "\n",
    " The Standard Encoder and Bag-of-words encoders also support filtering for specific features. If desired, specify a list of exact features to only use those specific features when encoding the data"
   ]
  },
  {
   "cell_type": "code",
   "execution_count": 5,
   "metadata": {},
   "outputs": [
    {
     "name": "stderr",
     "output_type": "stream",
     "text": [
      "/opt/anaconda3/lib/python3.8/site-packages/sklearn/feature_extraction/text.py:528: UserWarning: The parameter 'token_pattern' will not be used since 'tokenizer' is not None'\n",
      "  warnings.warn(\n",
      "/Users/angelayoon/Documents/Duke/2023_Spring/STA 561/Encoder.py:330: RuntimeWarning: invalid value encountered in true_divide\n",
      "  weighted_credit_counts = credit_counts / sums[:,None]\n"
     ]
    }
   ],
   "source": [
    "encoder_parameters = [\n",
    "    {\"encoder_name\": \"statement\",\n",
    "        \"encoder_type\":\"bag-of-words\",\n",
    "        \"feature_name\":\"statement\",\n",
    "        \"clean_strings\":True,\n",
    "        \"remove_stop_words\":True,\n",
    "        \"lematize\":True,\n",
    "        \"filtering\" : {\n",
    "            \"filtering_enabled\":False,\n",
    "            \"filtered_terms\": []\n",
    "        }\n",
    "    },\n",
    "    {\"encoder_name\": \"subjects\",\n",
    "        \"encoder_type\":\"bag-of-words\",\n",
    "        \"feature_name\":\"subjects\",\n",
    "        \"clean_strings\":True,\n",
    "        \"remove_stop_words\":True,\n",
    "        \"lematize\":True,\n",
    "        \"filtering\" : {\n",
    "            \"filtering_enabled\":False,\n",
    "            \"filtered_terms\": []\n",
    "        }\n",
    "    },\n",
    "    {\"encoder_name\": \"context\",\n",
    "        \"encoder_type\":\"bag-of-words\",\n",
    "        \"feature_name\":\"context\",\n",
    "        \"clean_strings\":True,\n",
    "        \"remove_stop_words\":True,\n",
    "        \"lematize\":True,\n",
    "        \"filtering\" : {\n",
    "            \"filtering_enabled\":False,\n",
    "            \"filtered_terms\": []\n",
    "        }\n",
    "    },\n",
    "    {\"encoder_name\": \"party affiliation\",\n",
    "        \"encoder_type\":\"encode\",\n",
    "        \"feature_name\":\"party_affiliation\",\n",
    "        \"encoding_mapping\":None,\n",
    "        \"normalize\":False,\n",
    "        \"Binarize\":False,\n",
    "        \"filtering\" : {\n",
    "            \"filtering_enabled\":True,\n",
    "            \"filtered_terms\": ['republican', 'democrat', 'none']\n",
    "        }\n",
    "    },\n",
    "    {\"encoder_name\": \"speaker\",\n",
    "        \"encoder_type\":\"encode\",\n",
    "        \"feature_name\":\"speaker\",\n",
    "        \"encoding_mapping\":None,\n",
    "        \"normalize\":False,\n",
    "        \"Binarize\":False,\n",
    "        \"filtering\" : {\n",
    "            \"filtering_enabled\":False,\n",
    "            \"filtered_terms\": []\n",
    "        }\n",
    "    },\n",
    "    {\"encoder_name\": \"speaker_job_title\",\n",
    "        \"encoder_type\":\"encode\",\n",
    "        \"feature_name\":\"speaker_job_title\",\n",
    "        \"encoding_mapping\":None,\n",
    "        \"normalize\":False,\n",
    "        \"Binarize\":False,\n",
    "        \"filtering\" : {\n",
    "            \"filtering_enabled\":False,\n",
    "            \"filtered_terms\": []\n",
    "        }\n",
    "    },\n",
    "    {\"encoder_name\": \"state_info\",\n",
    "        \"encoder_type\":\"encode\",\n",
    "        \"feature_name\":\"state_info\",\n",
    "        \"encoding_mapping\":None,\n",
    "        \"normalize\":False,\n",
    "        \"Binarize\":False,\n",
    "        \"filtering\" : {\n",
    "            \"filtering_enabled\":False,\n",
    "            \"filtered_terms\": []\n",
    "        }\n",
    "    },\n",
    "    {\"encoder_name\": \"credit score\",\n",
    "        \"encoder_type\":\"credit history\",\n",
    "        \"feature_names\":['count_1','count_2','count_3','count_4','count_5'],\n",
    "        \"compute_credit_history\":True\n",
    "    }\n",
    "]\n",
    "\n",
    "#load the encoding configurations for the desired dataset\n",
    "\n",
    "liar_liar_pre_processor.configure_encodings(encoder_parameters=encoder_parameters)"
   ]
  },
  {
   "cell_type": "markdown",
   "metadata": {},
   "source": [
    "## Generate a dataset\n",
    "\n"
   ]
  },
  {
   "cell_type": "code",
   "execution_count": 6,
   "metadata": {},
   "outputs": [],
   "source": [
    "y,X,X_headers = liar_liar_pre_processor.get_dataset()"
   ]
  },
  {
   "cell_type": "code",
   "execution_count": 7,
   "metadata": {},
   "outputs": [],
   "source": [
    "#apply to the test set\n",
    "y_test,X_test = liar_liar_pre_processor.apply_encodings_to_new_data('test.tsv')"
   ]
  },
  {
   "cell_type": "markdown",
   "metadata": {},
   "source": [
    "## K-Nearest Neighbor Model\n",
    "\n"
   ]
  },
  {
   "cell_type": "code",
   "execution_count": 11,
   "metadata": {},
   "outputs": [
    {
     "data": {
      "text/html": [
       "<style>#sk-container-id-2 {color: black;background-color: white;}#sk-container-id-2 pre{padding: 0;}#sk-container-id-2 div.sk-toggleable {background-color: white;}#sk-container-id-2 label.sk-toggleable__label {cursor: pointer;display: block;width: 100%;margin-bottom: 0;padding: 0.3em;box-sizing: border-box;text-align: center;}#sk-container-id-2 label.sk-toggleable__label-arrow:before {content: \"▸\";float: left;margin-right: 0.25em;color: #696969;}#sk-container-id-2 label.sk-toggleable__label-arrow:hover:before {color: black;}#sk-container-id-2 div.sk-estimator:hover label.sk-toggleable__label-arrow:before {color: black;}#sk-container-id-2 div.sk-toggleable__content {max-height: 0;max-width: 0;overflow: hidden;text-align: left;background-color: #f0f8ff;}#sk-container-id-2 div.sk-toggleable__content pre {margin: 0.2em;color: black;border-radius: 0.25em;background-color: #f0f8ff;}#sk-container-id-2 input.sk-toggleable__control:checked~div.sk-toggleable__content {max-height: 200px;max-width: 100%;overflow: auto;}#sk-container-id-2 input.sk-toggleable__control:checked~label.sk-toggleable__label-arrow:before {content: \"▾\";}#sk-container-id-2 div.sk-estimator input.sk-toggleable__control:checked~label.sk-toggleable__label {background-color: #d4ebff;}#sk-container-id-2 div.sk-label input.sk-toggleable__control:checked~label.sk-toggleable__label {background-color: #d4ebff;}#sk-container-id-2 input.sk-hidden--visually {border: 0;clip: rect(1px 1px 1px 1px);clip: rect(1px, 1px, 1px, 1px);height: 1px;margin: -1px;overflow: hidden;padding: 0;position: absolute;width: 1px;}#sk-container-id-2 div.sk-estimator {font-family: monospace;background-color: #f0f8ff;border: 1px dotted black;border-radius: 0.25em;box-sizing: border-box;margin-bottom: 0.5em;}#sk-container-id-2 div.sk-estimator:hover {background-color: #d4ebff;}#sk-container-id-2 div.sk-parallel-item::after {content: \"\";width: 100%;border-bottom: 1px solid gray;flex-grow: 1;}#sk-container-id-2 div.sk-label:hover label.sk-toggleable__label {background-color: #d4ebff;}#sk-container-id-2 div.sk-serial::before {content: \"\";position: absolute;border-left: 1px solid gray;box-sizing: border-box;top: 0;bottom: 0;left: 50%;z-index: 0;}#sk-container-id-2 div.sk-serial {display: flex;flex-direction: column;align-items: center;background-color: white;padding-right: 0.2em;padding-left: 0.2em;position: relative;}#sk-container-id-2 div.sk-item {position: relative;z-index: 1;}#sk-container-id-2 div.sk-parallel {display: flex;align-items: stretch;justify-content: center;background-color: white;position: relative;}#sk-container-id-2 div.sk-item::before, #sk-container-id-2 div.sk-parallel-item::before {content: \"\";position: absolute;border-left: 1px solid gray;box-sizing: border-box;top: 0;bottom: 0;left: 50%;z-index: -1;}#sk-container-id-2 div.sk-parallel-item {display: flex;flex-direction: column;z-index: 1;position: relative;background-color: white;}#sk-container-id-2 div.sk-parallel-item:first-child::after {align-self: flex-end;width: 50%;}#sk-container-id-2 div.sk-parallel-item:last-child::after {align-self: flex-start;width: 50%;}#sk-container-id-2 div.sk-parallel-item:only-child::after {width: 0;}#sk-container-id-2 div.sk-dashed-wrapped {border: 1px dashed gray;margin: 0 0.4em 0.5em 0.4em;box-sizing: border-box;padding-bottom: 0.4em;background-color: white;}#sk-container-id-2 div.sk-label label {font-family: monospace;font-weight: bold;display: inline-block;line-height: 1.2em;}#sk-container-id-2 div.sk-label-container {text-align: center;}#sk-container-id-2 div.sk-container {/* jupyter's `normalize.less` sets `[hidden] { display: none; }` but bootstrap.min.css set `[hidden] { display: none !important; }` so we also need the `!important` here to be able to override the default hidden behavior on the sphinx rendered scikit-learn.org. See: https://github.com/scikit-learn/scikit-learn/issues/21755 */display: inline-block !important;position: relative;}#sk-container-id-2 div.sk-text-repr-fallback {display: none;}</style><div id=\"sk-container-id-2\" class=\"sk-top-container\"><div class=\"sk-text-repr-fallback\"><pre>KNeighborsClassifier(n_neighbors=10)</pre><b>In a Jupyter environment, please rerun this cell to show the HTML representation or trust the notebook. <br />On GitHub, the HTML representation is unable to render, please try loading this page with nbviewer.org.</b></div><div class=\"sk-container\" hidden><div class=\"sk-item\"><div class=\"sk-estimator sk-toggleable\"><input class=\"sk-toggleable__control sk-hidden--visually\" id=\"sk-estimator-id-2\" type=\"checkbox\" checked><label for=\"sk-estimator-id-2\" class=\"sk-toggleable__label sk-toggleable__label-arrow\">KNeighborsClassifier</label><div class=\"sk-toggleable__content\"><pre>KNeighborsClassifier(n_neighbors=10)</pre></div></div></div></div></div>"
      ],
      "text/plain": [
       "KNeighborsClassifier(n_neighbors=10)"
      ]
     },
     "execution_count": 11,
     "metadata": {},
     "output_type": "execute_result"
    }
   ],
   "source": [
    "from sklearn.neighbors import KNeighborsClassifier\n",
    "\n",
    "knn = KNeighborsClassifier(n_neighbors=10)\n",
    "knn.fit(X, np.ravel(y,order='C'))"
   ]
  },
  {
   "cell_type": "code",
   "execution_count": 12,
   "metadata": {},
   "outputs": [
    {
     "name": "stdout",
     "output_type": "stream",
     "text": [
      "0.5868878357030016\n"
     ]
    }
   ],
   "source": [
    "print(knn.score(X_test, y_test))"
   ]
  },
  {
   "cell_type": "code",
   "execution_count": null,
   "metadata": {},
   "outputs": [],
   "source": [
    "neighbors = np.arange(1, 20)\n",
    "test_accuracy = np.empty(len(neighbors))\n",
    "\n",
    "for i, k in enumerate(neighbors):\n",
    "    knn = KNeighborsClassifier(n_neighbors=k)\n",
    "    knn.fit(X, np.ravel(y,order='C'))\n",
    "      \n",
    "    # Compute traning and test data accuracy\n",
    "    test_accuracy[i] = knn.score(X_test, y_test)\n",
    "  \n",
    "# Generate plot"
   ]
  },
  {
   "cell_type": "code",
   "execution_count": 18,
   "metadata": {},
   "outputs": [
    {
     "data": {
      "image/png": "[encoded data removed]",
      "text/plain": [
       "<Figure size 432x288 with 1 Axes>"
      ]
     },
     "metadata": {
      "needs_background": "light"
     },
     "output_type": "display_data"
    }
   ],
   "source": [
    "import matplotlib.pyplot as plt\n",
    "\n",
    "plt.plot(neighbors, test_accuracy, label = 'Testing dataset Accuracy')\n",
    "  \n",
    "plt.legend()\n",
    "plt.xlabel('n_neighbors')\n",
    "plt.ylabel('Accuracy')\n",
    "plt.savefig(\"KNN.png\")\n",
    "plt.show()"
   ]
  },
  {
   "cell_type": "code",
   "execution_count": null,
   "metadata": {},
   "outputs": [],
   "source": []
  }
 ],
 "metadata": {
  "kernelspec": {
   "display_name": "Python 3",
   "language": "python",
   "name": "python3"
  },
  "language_info": {
   "codemirror_mode": {
    "name": "ipython",
    "version": 3
   },
   "file_extension": ".py",
   "mimetype": "text/x-python",
   "name": "python",
   "nbconvert_exporter": "python",
   "pygments_lexer": "ipython3",
   "version": "3.8.3"
  },
  "vscode": {
   "interpreter": {
    "hash": "5ff78712972ad1d9723777b77156440718eac6d60d034e137fcbf0563820b527"
   }
  }
 },
 "nbformat": 4,
 "nbformat_minor": 2
}
