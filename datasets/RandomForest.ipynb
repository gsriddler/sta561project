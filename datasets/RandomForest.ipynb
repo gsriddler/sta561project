{
 "cells": [
  {
   "cell_type": "code",
   "execution_count": 1,
   "id": "44f5160b-198a-40f5-a521-8451c771a09e",
   "metadata": {},
   "outputs": [
    {
     "name": "stdout",
     "output_type": "stream",
     "text": [
      "Collecting cupy-cuda115\n",
      "  Downloading cupy_cuda115-10.6.0-cp38-cp38-manylinux1_x86_64.whl (83.3 MB)\n",
      "\u001b[2K     \u001b[90m━━━━━━━━━━━━━━━━━━━━━━━━━━━━━━━━━━━━━━━━\u001b[0m \u001b[32m83.3/83.3 MB\u001b[0m \u001b[31m21.8 MB/s\u001b[0m eta \u001b[36m0:00:00\u001b[0m00:01\u001b[0m00:01\u001b[0m\n",
      "\u001b[?25hRequirement already satisfied: numpy<1.25,>=1.18 in /opt/conda/lib/python3.8/site-packages (from cupy-cuda115) (1.22.2)\n",
      "Requirement already satisfied: fastrlock>=0.5 in /opt/conda/lib/python3.8/site-packages (from cupy-cuda115) (0.8)\n",
      "Installing collected packages: cupy-cuda115\n",
      "Successfully installed cupy-cuda115-10.6.0\n",
      "Requirement already satisfied: numba in /opt/conda/lib/python3.8/site-packages (0.55.1)\n",
      "Collecting numba\n",
      "  Downloading numba-0.56.4-cp38-cp38-manylinux2014_x86_64.manylinux_2_17_x86_64.whl (3.5 MB)\n",
      "\u001b[2K     \u001b[90m━━━━━━━━━━━━━━━━━━━━━━━━━━━━━━━━━━━━━━━━\u001b[0m \u001b[32m3.5/3.5 MB\u001b[0m \u001b[31m29.5 MB/s\u001b[0m eta \u001b[36m0:00:00\u001b[0m00:01\u001b[0m0:01\u001b[0m\n",
      "\u001b[?25hRequirement already satisfied: importlib-metadata in /opt/conda/lib/python3.8/site-packages (from numba) (4.11.0)\n",
      "Collecting llvmlite<0.40,>=0.39.0dev0\n",
      "  Downloading llvmlite-0.39.1-cp38-cp38-manylinux_2_17_x86_64.manylinux2014_x86_64.whl (34.6 MB)\n",
      "\u001b[2K     \u001b[90m━━━━━━━━━━━━━━━━━━━━━━━━━━━━━━━━━━━━━━━━\u001b[0m \u001b[32m34.6/34.6 MB\u001b[0m \u001b[31m63.4 MB/s\u001b[0m eta \u001b[36m0:00:00\u001b[0m00:01\u001b[0m00:01\u001b[0m\n",
      "\u001b[?25hRequirement already satisfied: numpy<1.24,>=1.18 in /opt/conda/lib/python3.8/site-packages (from numba) (1.22.2)\n",
      "Requirement already satisfied: setuptools in /opt/conda/lib/python3.8/site-packages (from numba) (59.8.0)\n",
      "Requirement already satisfied: zipp>=0.5 in /opt/conda/lib/python3.8/site-packages (from importlib-metadata->numba) (3.7.0)\n",
      "Installing collected packages: llvmlite, numba\n",
      "  Attempting uninstall: llvmlite\n",
      "    Found existing installation: llvmlite 0.38.0\n",
      "\u001b[31mERROR: Cannot uninstall 'llvmlite'. It is a distutils installed project and thus we cannot accurately determine which files belong to it which would lead to only a partial uninstall.\u001b[0m\u001b[31m\n",
      "\u001b[0mCollecting tensorflow==2.11\n",
      "  Downloading tensorflow-2.11.0-cp38-cp38-manylinux_2_17_x86_64.manylinux2014_x86_64.whl (588.3 MB)\n",
      "\u001b[2K     \u001b[90m━━━━━━━━━━━━━━━━━━━━━━━━━━━━━━━━━━━━━━━\u001b[0m \u001b[32m588.3/588.3 MB\u001b[0m \u001b[31m5.9 MB/s\u001b[0m eta \u001b[36m0:00:00\u001b[0m00:01\u001b[0m00:01\u001b[0m\n",
      "\u001b[?25hCollecting keras<2.12,>=2.11.0\n",
      "  Downloading keras-2.11.0-py2.py3-none-any.whl (1.7 MB)\n",
      "\u001b[2K     \u001b[90m━━━━━━━━━━━━━━━━━━━━━━━━━━━━━━━━━━━━━━━━\u001b[0m \u001b[32m1.7/1.7 MB\u001b[0m \u001b[31m89.4 MB/s\u001b[0m eta \u001b[36m0:00:00\u001b[0m\n",
      "\u001b[?25hRequirement already satisfied: protobuf<3.20,>=3.9.2 in /opt/conda/lib/python3.8/site-packages (from tensorflow==2.11) (3.16.0)\n",
      "Requirement already satisfied: grpcio<2.0,>=1.24.3 in /opt/conda/lib/python3.8/site-packages (from tensorflow==2.11) (1.39.0)\n",
      "Requirement already satisfied: gast<=0.4.0,>=0.2.1 in /opt/conda/lib/python3.8/site-packages (from tensorflow==2.11) (0.4.0)\n",
      "Requirement already satisfied: astunparse>=1.6.0 in /opt/conda/lib/python3.8/site-packages (from tensorflow==2.11) (1.6.3)\n",
      "Collecting libclang>=13.0.0\n",
      "  Downloading libclang-16.0.0-py2.py3-none-manylinux2010_x86_64.whl (22.9 MB)\n",
      "\u001b[2K     \u001b[90m━━━━━━━━━━━━━━━━━━━━━━━━━━━━━━━━━━━━━━━━\u001b[0m \u001b[32m22.9/22.9 MB\u001b[0m \u001b[31m75.8 MB/s\u001b[0m eta \u001b[36m0:00:00\u001b[0m00:01\u001b[0m00:01\u001b[0m\n",
      "\u001b[?25hRequirement already satisfied: wrapt>=1.11.0 in /opt/conda/lib/python3.8/site-packages (from tensorflow==2.11) (1.12.1)\n",
      "Collecting tensorboard<2.12,>=2.11\n",
      "  Downloading tensorboard-2.11.2-py3-none-any.whl (6.0 MB)\n",
      "\u001b[2K     \u001b[90m━━━━━━━━━━━━━━━━━━━━━━━━━━━━━━━━━━━━━━━━\u001b[0m \u001b[32m6.0/6.0 MB\u001b[0m \u001b[31m112.9 MB/s\u001b[0m eta \u001b[36m0:00:00\u001b[0m00:01\u001b[0m\n",
      "\u001b[?25hRequirement already satisfied: opt-einsum>=2.3.2 in /opt/conda/lib/python3.8/site-packages (from tensorflow==2.11) (3.3.0)\n",
      "Requirement already satisfied: termcolor>=1.1.0 in /opt/conda/lib/python3.8/site-packages (from tensorflow==2.11) (1.1.0)\n",
      "Collecting absl-py>=1.0.0\n",
      "  Downloading absl_py-1.4.0-py3-none-any.whl (126 kB)\n",
      "\u001b[2K     \u001b[90m━━━━━━━━━━━━━━━━━━━━━━━━━━━━━━━━━━━━━━\u001b[0m \u001b[32m126.5/126.5 KB\u001b[0m \u001b[31m38.7 MB/s\u001b[0m eta \u001b[36m0:00:00\u001b[0m\n",
      "\u001b[?25hCollecting flatbuffers>=2.0\n",
      "  Downloading flatbuffers-23.3.3-py2.py3-none-any.whl (26 kB)\n",
      "Collecting tensorflow-io-gcs-filesystem>=0.23.1\n",
      "  Downloading tensorflow_io_gcs_filesystem-0.32.0-cp38-cp38-manylinux_2_12_x86_64.manylinux2010_x86_64.whl (2.4 MB)\n",
      "\u001b[2K     \u001b[90m━━━━━━━━━━━━━━━━━━━━━━━━━━━━━━━━━━━━━━━━\u001b[0m \u001b[32m2.4/2.4 MB\u001b[0m \u001b[31m126.5 MB/s\u001b[0m eta \u001b[36m0:00:00\u001b[0m\n",
      "\u001b[?25hRequirement already satisfied: packaging in /opt/conda/lib/python3.8/site-packages (from tensorflow==2.11) (21.3)\n",
      "Collecting tensorflow-estimator<2.12,>=2.11.0\n",
      "  Downloading tensorflow_estimator-2.11.0-py2.py3-none-any.whl (439 kB)\n",
      "\u001b[2K     \u001b[90m━━━━━━━━━━━━━━━━━━━━━━━━━━━━━━━━━━━━━━\u001b[0m \u001b[32m439.2/439.2 KB\u001b[0m \u001b[31m72.7 MB/s\u001b[0m eta \u001b[36m0:00:00\u001b[0m\n",
      "\u001b[?25hRequirement already satisfied: typing-extensions>=3.6.6 in /opt/conda/lib/python3.8/site-packages (from tensorflow==2.11) (3.7.4.3)\n",
      "Requirement already satisfied: h5py>=2.9.0 in /opt/conda/lib/python3.8/site-packages (from tensorflow==2.11) (3.1.0)\n",
      "Requirement already satisfied: six>=1.12.0 in /opt/conda/lib/python3.8/site-packages (from tensorflow==2.11) (1.15.0)\n",
      "Requirement already satisfied: google-pasta>=0.1.1 in /opt/conda/lib/python3.8/site-packages (from tensorflow==2.11) (0.2.0)\n",
      "Requirement already satisfied: numpy>=1.20 in /opt/conda/lib/python3.8/site-packages (from tensorflow==2.11) (1.22.2)\n",
      "Requirement already satisfied: setuptools in /opt/conda/lib/python3.8/site-packages (from tensorflow==2.11) (59.8.0)\n",
      "Requirement already satisfied: wheel<1.0,>=0.23.0 in /opt/conda/lib/python3.8/site-packages (from astunparse>=1.6.0->tensorflow==2.11) (0.37.1)\n",
      "Requirement already satisfied: markdown>=2.6.8 in /opt/conda/lib/python3.8/site-packages (from tensorboard<2.12,>=2.11->tensorflow==2.11) (3.3.6)\n",
      "Requirement already satisfied: google-auth<3,>=1.6.3 in /opt/conda/lib/python3.8/site-packages (from tensorboard<2.12,>=2.11->tensorflow==2.11) (1.35.0)\n",
      "Requirement already satisfied: google-auth-oauthlib<0.5,>=0.4.1 in /opt/conda/lib/python3.8/site-packages (from tensorboard<2.12,>=2.11->tensorflow==2.11) (0.4.6)\n",
      "Requirement already satisfied: tensorboard-data-server<0.7.0,>=0.6.0 in /opt/conda/lib/python3.8/site-packages (from tensorboard<2.12,>=2.11->tensorflow==2.11) (0.6.0)\n",
      "Requirement already satisfied: werkzeug>=1.0.1 in /opt/conda/lib/python3.8/site-packages (from tensorboard<2.12,>=2.11->tensorflow==2.11) (2.0.3)\n",
      "Requirement already satisfied: requests<3,>=2.21.0 in /opt/conda/lib/python3.8/site-packages (from tensorboard<2.12,>=2.11->tensorflow==2.11) (2.27.1)\n",
      "Requirement already satisfied: tensorboard-plugin-wit>=1.6.0 in /opt/conda/lib/python3.8/site-packages (from tensorboard<2.12,>=2.11->tensorflow==2.11) (1.8.1)\n",
      "Requirement already satisfied: pyparsing!=3.0.5,>=2.0.2 in /opt/conda/lib/python3.8/site-packages (from packaging->tensorflow==2.11) (3.0.7)\n",
      "Requirement already satisfied: rsa<5,>=3.1.4 in /opt/conda/lib/python3.8/site-packages (from google-auth<3,>=1.6.3->tensorboard<2.12,>=2.11->tensorflow==2.11) (4.8)\n",
      "Requirement already satisfied: cachetools<5.0,>=2.0.0 in /opt/conda/lib/python3.8/site-packages (from google-auth<3,>=1.6.3->tensorboard<2.12,>=2.11->tensorflow==2.11) (4.2.4)\n",
      "Requirement already satisfied: pyasn1-modules>=0.2.1 in /opt/conda/lib/python3.8/site-packages (from google-auth<3,>=1.6.3->tensorboard<2.12,>=2.11->tensorflow==2.11) (0.2.7)\n",
      "Requirement already satisfied: requests-oauthlib>=0.7.0 in /opt/conda/lib/python3.8/site-packages (from google-auth-oauthlib<0.5,>=0.4.1->tensorboard<2.12,>=2.11->tensorflow==2.11) (1.3.1)\n",
      "Requirement already satisfied: importlib-metadata>=4.4 in /opt/conda/lib/python3.8/site-packages (from markdown>=2.6.8->tensorboard<2.12,>=2.11->tensorflow==2.11) (4.11.0)\n",
      "Requirement already satisfied: certifi>=2017.4.17 in /opt/conda/lib/python3.8/site-packages (from requests<3,>=2.21.0->tensorboard<2.12,>=2.11->tensorflow==2.11) (2021.10.8)\n",
      "Requirement already satisfied: charset-normalizer~=2.0.0 in /opt/conda/lib/python3.8/site-packages (from requests<3,>=2.21.0->tensorboard<2.12,>=2.11->tensorflow==2.11) (2.0.12)\n",
      "Requirement already satisfied: urllib3<1.27,>=1.21.1 in /opt/conda/lib/python3.8/site-packages (from requests<3,>=2.21.0->tensorboard<2.12,>=2.11->tensorflow==2.11) (1.26.8)\n",
      "Requirement already satisfied: idna<4,>=2.5 in /opt/conda/lib/python3.8/site-packages (from requests<3,>=2.21.0->tensorboard<2.12,>=2.11->tensorflow==2.11) (3.3)\n",
      "Requirement already satisfied: zipp>=0.5 in /opt/conda/lib/python3.8/site-packages (from importlib-metadata>=4.4->markdown>=2.6.8->tensorboard<2.12,>=2.11->tensorflow==2.11) (3.7.0)\n",
      "Requirement already satisfied: pyasn1<0.5.0,>=0.4.6 in /opt/conda/lib/python3.8/site-packages (from pyasn1-modules>=0.2.1->google-auth<3,>=1.6.3->tensorboard<2.12,>=2.11->tensorflow==2.11) (0.4.8)\n",
      "Requirement already satisfied: oauthlib>=3.0.0 in /opt/conda/lib/python3.8/site-packages (from requests-oauthlib>=0.7.0->google-auth-oauthlib<0.5,>=0.4.1->tensorboard<2.12,>=2.11->tensorflow==2.11) (3.2.0)\n",
      "Installing collected packages: libclang, flatbuffers, tensorflow-io-gcs-filesystem, tensorflow-estimator, keras, absl-py, tensorboard, tensorflow\n",
      "  Attempting uninstall: flatbuffers\n",
      "    Found existing installation: flatbuffers 1.12\n",
      "    Uninstalling flatbuffers-1.12:\n",
      "      Successfully uninstalled flatbuffers-1.12\n",
      "  Attempting uninstall: tensorflow-estimator\n",
      "    Found existing installation: tensorflow-estimator 2.6.0\n",
      "    Uninstalling tensorflow-estimator-2.6.0:\n",
      "      Successfully uninstalled tensorflow-estimator-2.6.0\n",
      "  Attempting uninstall: keras\n",
      "    Found existing installation: keras 2.6.0\n",
      "    Uninstalling keras-2.6.0:\n",
      "      Successfully uninstalled keras-2.6.0\n",
      "  Attempting uninstall: absl-py\n",
      "    Found existing installation: absl-py 0.15.0\n",
      "    Uninstalling absl-py-0.15.0:\n",
      "      Successfully uninstalled absl-py-0.15.0\n",
      "  Attempting uninstall: tensorboard\n",
      "    Found existing installation: tensorboard 2.6.0\n",
      "    Uninstalling tensorboard-2.6.0:\n",
      "      Successfully uninstalled tensorboard-2.6.0\n",
      "  Attempting uninstall: tensorflow\n",
      "    Found existing installation: tensorflow 2.6.0\n",
      "    Uninstalling tensorflow-2.6.0:\n",
      "      Successfully uninstalled tensorflow-2.6.0\n",
      "Successfully installed absl-py-1.4.0 flatbuffers-23.3.3 keras-2.11.0 libclang-16.0.0 tensorboard-2.11.2 tensorflow-2.11.0 tensorflow-estimator-2.11.0 tensorflow-io-gcs-filesystem-0.32.0\n",
      "Collecting numpy==1.22\n",
      "  Downloading numpy-1.22.0-cp38-cp38-manylinux_2_17_x86_64.manylinux2014_x86_64.whl (16.8 MB)\n",
      "\u001b[2K     \u001b[90m━━━━━━━━━━━━━━━━━━━━━━━━━━━━━━━━━━━━━━━━\u001b[0m \u001b[32m16.8/16.8 MB\u001b[0m \u001b[31m76.2 MB/s\u001b[0m eta \u001b[36m0:00:00\u001b[0m00:01\u001b[0m00:01\u001b[0m\n",
      "\u001b[?25hInstalling collected packages: numpy\n",
      "  Attempting uninstall: numpy\n",
      "    Found existing installation: numpy 1.22.2\n",
      "    Uninstalling numpy-1.22.2:\n",
      "      Successfully uninstalled numpy-1.22.2\n",
      "\u001b[31mERROR: pip's dependency resolver does not currently take into account all the packages that are installed. This behaviour is the source of the following dependency conflicts.\n",
      "numba 0.55.1 requires numpy<1.22,>=1.18, but you have numpy 1.22.0 which is incompatible.\u001b[0m\u001b[31m\n",
      "\u001b[0mSuccessfully installed numpy-1.22.0\n",
      "Collecting gensim\n",
      "  Downloading gensim-4.3.1-cp38-cp38-manylinux_2_17_x86_64.manylinux2014_x86_64.whl (26.5 MB)\n",
      "\u001b[2K     \u001b[90m━━━━━━━━━━━━━━━━━━━━━━━━━━━━━━━━━━━━━━━━\u001b[0m \u001b[32m26.5/26.5 MB\u001b[0m \u001b[31m65.7 MB/s\u001b[0m eta \u001b[36m0:00:00\u001b[0m00:01\u001b[0m00:01\u001b[0m\n",
      "\u001b[?25hCollecting smart-open>=1.8.1\n",
      "  Downloading smart_open-6.3.0-py3-none-any.whl (56 kB)\n",
      "\u001b[2K     \u001b[90m━━━━━━━━━━━━━━━━━━━━━━━━━━━━━━━━━━━━━━━━\u001b[0m \u001b[32m56.8/56.8 KB\u001b[0m \u001b[31m15.3 MB/s\u001b[0m eta \u001b[36m0:00:00\u001b[0m\n",
      "\u001b[?25hRequirement already satisfied: numpy>=1.18.5 in /opt/conda/lib/python3.8/site-packages (from gensim) (1.22.0)\n",
      "Requirement already satisfied: scipy>=1.7.0 in /opt/conda/lib/python3.8/site-packages (from gensim) (1.8.0)\n",
      "Installing collected packages: smart-open, gensim\n",
      "Successfully installed gensim-4.3.1 smart-open-6.3.0\n"
     ]
    }
   ],
   "source": [
    "!pip install cupy-cuda115\n",
    "!pip install --upgrade numba \n",
    "!pip install --upgrade tensorflow==2.11\n",
    "!pip install numpy==1.22\n",
    "!pip install gensim\n"
   ]
  },
  {
   "cell_type": "code",
   "execution_count": 2,
   "id": "e92c9f5f-881e-4d96-8768-dc29ac79efb0",
   "metadata": {},
   "outputs": [
    {
     "name": "stdout",
     "output_type": "stream",
     "text": [
      "Collecting nltk\n",
      "  Downloading nltk-3.8.1-py3-none-any.whl (1.5 MB)\n",
      "\u001b[2K     \u001b[90m━━━━━━━━━━━━━━━━━━━━━━━━━━━━━━━━━━━━━━━━\u001b[0m \u001b[32m1.5/1.5 MB\u001b[0m \u001b[31m17.5 MB/s\u001b[0m eta \u001b[36m0:00:00\u001b[0ma \u001b[36m0:00:01\u001b[0m\n",
      "\u001b[?25hRequirement already satisfied: regex>=2021.8.3 in /opt/conda/lib/python3.8/site-packages (from nltk) (2022.1.18)\n",
      "Requirement already satisfied: click in /opt/conda/lib/python3.8/site-packages (from nltk) (7.1.2)\n",
      "Requirement already satisfied: joblib in /opt/conda/lib/python3.8/site-packages (from nltk) (1.1.0)\n",
      "Requirement already satisfied: tqdm in /opt/conda/lib/python3.8/site-packages (from nltk) (4.62.3)\n",
      "Installing collected packages: nltk\n",
      "Successfully installed nltk-3.8.1\n"
     ]
    }
   ],
   "source": [
    "\n",
    "\n",
    "\n",
    "\n",
    "import pandas as pd\n",
    "import numpy as np\n",
    "import matplotlib\n",
    "import seaborn as sns\n",
    "\n",
    "from gensim.models.word2vec import Word2Vec\n",
    "import matplotlib.pyplot as plt\n",
    "import pickle\n",
    "import warnings\n",
    "\n",
    "!pip install nltk\n",
    "import nltk\n",
    "from nltk.stem import PorterStemmer #for stemming\n",
    "from nltk.tokenize import word_tokenize\n",
    "import nltk.corpus\n",
    "\n",
    "from sklearn.feature_extraction.text import CountVectorizer\n",
    "from sklearn.feature_extraction.text import TfidfTransformer\n",
    "from sklearn.feature_extraction.text import TfidfVectorizer\n",
    "from sklearn.pipeline import Pipeline\n",
    "from sklearn.linear_model import  LogisticRegression\n",
    "from sklearn.linear_model import SGDClassifier\n",
    "from sklearn.naive_bayes import MultinomialNB\n",
    "from sklearn.ensemble import RandomForestClassifier\n",
    "from sklearn.model_selection import KFold\n",
    "from sklearn.model_selection import GridSearchCV\n",
    "from sklearn.model_selection import learning_curve\n",
    "from sklearn.metrics import confusion_matrix, f1_score, classification_report\n",
    "from sklearn.metrics import precision_recall_curve\n",
    "from sklearn.metrics import average_precision_score\n",
    "from sklearn import svm\n",
    "\n",
    "\n",
    "\n",
    "# !pip install \n",
    "\n",
    "warnings.filterwarnings(\"ignore\")"
   ]
  },
  {
   "cell_type": "code",
   "execution_count": 3,
   "id": "648c8d48-f9a0-4f4f-99b1-65a5d010e7c2",
   "metadata": {},
   "outputs": [],
   "source": [
    "path_to_train = \"train.tsv\"\n",
    "path_to_test = \"test.tsv\"\n",
    "path_to_valid = \"valid.tsv\"\n",
    "df_train = pd.read_csv(path_to_train, delimiter='\\t', dtype=object)\n",
    "df_test = pd.read_csv(path_to_test, delimiter='\\t', dtype=object)\n",
    "df_valid = pd.read_csv(path_to_valid, delimiter='\\t', dtype=object)"
   ]
  },
  {
   "cell_type": "code",
   "execution_count": 4,
   "id": "cab9f5b6-5d8a-4e30-93c6-09fb256455cf",
   "metadata": {},
   "outputs": [],
   "source": [
    "df_train.fillna(\"\", inplace=True)\n",
    "df_train.columns = [\n",
    "        'id',                # Column 1: the ID of the statement ([ID].json).\n",
    "        'label',             # Column 2: the label.\n",
    "        'statement',         # Column 3: the statement.\n",
    "        'subjects',          # Column 4: the subject(s).\n",
    "        'speaker',           # Column 5: the speaker.\n",
    "        'speaker_job_title', # Column 6: the speaker's job title.\n",
    "        'state_info',        # Column 7: the state info.\n",
    "        'party_affiliation', # Column 8: the party affiliation.\n",
    "        \n",
    "        # Column 9-13: the total credit history count, including the current statement.\n",
    "        'count_1', # barely true counts.\n",
    "        'count_2', # false counts.\n",
    "        'count_3', # half true counts.\n",
    "        'count_4', # mostly true counts.\n",
    "        'count_5', # pants on fire counts.\n",
    "        \n",
    "        'context' # Column 14: the context (venue / location of the speech or statement).\n",
    "    ]"
   ]
  },
  {
   "cell_type": "code",
   "execution_count": 5,
   "id": "3496aacd-4700-4713-a92d-0bc6e026eea4",
   "metadata": {},
   "outputs": [],
   "source": [
    "df_test.fillna(\"\", inplace=True)\n",
    "df_test.columns = [\n",
    "        'id',                # Column 1: the ID of the statement ([ID].json).\n",
    "        'label',             # Column 2: the label.\n",
    "        'statement',         # Column 3: the statement.\n",
    "        'subjects',          # Column 4: the subject(s).\n",
    "        'speaker',           # Column 5: the speaker.\n",
    "        'speaker_job_title', # Column 6: the speaker's job title.\n",
    "        'state_info',        # Column 7: the state info.\n",
    "        'party_affiliation', # Column 8: the party affiliation.\n",
    "        \n",
    "        # Column 9-13: the total credit history count, including the current statement.\n",
    "        'count_1', # barely true counts.\n",
    "        'count_2', # false counts.\n",
    "        'count_3', # half true counts.\n",
    "        'count_4', # mostly true counts.\n",
    "        'count_5', # pants on fire counts.\n",
    "        \n",
    "        'context' # Column 14: the context (venue / location of the speech or statement).\n",
    "    ]\n",
    "\n",
    "\n"
   ]
  },
  {
   "cell_type": "code",
   "execution_count": 6,
   "id": "44c1efbe-75c9-4f7d-af88-2e3dcc523d64",
   "metadata": {},
   "outputs": [],
   "source": [
    "df_valid.fillna(\"\", inplace=True)\n",
    "df_valid.columns = [\n",
    "        'id',                # Column 1: the ID of the statement ([ID].json).\n",
    "        'label',             # Column 2: the label.\n",
    "        'statement',         # Column 3: the statement.\n",
    "        'subjects',          # Column 4: the subject(s).\n",
    "        'speaker',           # Column 5: the speaker.\n",
    "        'speaker_job_title', # Column 6: the speaker's job title.\n",
    "        'state_info',        # Column 7: the state info.\n",
    "        'party_affiliation', # Column 8: the party affiliation.\n",
    "        \n",
    "        # Column 9-13: the total credit history count, including the current statement.\n",
    "        'count_1', # barely true counts.\n",
    "        'count_2', # false counts.\n",
    "        'count_3', # half true counts.\n",
    "        'count_4', # mostly true counts.\n",
    "        'count_5', # pants on fire counts.\n",
    "        \n",
    "        'context' # Column 14: the context (venue / location of the speech or statement).\n",
    "    ]\n"
   ]
  },
  {
   "cell_type": "code",
   "execution_count": 7,
   "id": "66aefe07-67c3-4c30-a751-7729a7ca9f7e",
   "metadata": {},
   "outputs": [
    {
     "data": {
      "text/plain": [
       "<AxesSubplot:xlabel='label', ylabel='count'>"
      ]
     },
     "execution_count": 7,
     "metadata": {},
     "output_type": "execute_result"
    },
    {
     "data": {
      "image/png": "[encoded data removed]",
      "text/plain": [
       "<Figure size 432x288 with 1 Axes>"
      ]
     },
     "metadata": {
      "needs_background": "light"
     },
     "output_type": "display_data"
    }
   ],
   "source": [
    "#plot train data\n",
    "sns.countplot(x='label', data=df_train)\n"
   ]
  },
  {
   "cell_type": "code",
   "execution_count": 8,
   "id": "e06cb509-6745-4c2d-a987-93cd07457c68",
   "metadata": {},
   "outputs": [
    {
     "data": {
      "text/plain": [
       "<AxesSubplot:xlabel='label', ylabel='count'>"
      ]
     },
     "execution_count": 8,
     "metadata": {},
     "output_type": "execute_result"
    },
    {
     "data": {
      "image/png": "[encoded data removed]",
      "text/plain": [
       "<Figure size 432x288 with 1 Axes>"
      ]
     },
     "metadata": {
      "needs_background": "light"
     },
     "output_type": "display_data"
    }
   ],
   "source": [
    "#plot test data \n",
    "sns.countplot(x='label', data=df_test)\n"
   ]
  },
  {
   "cell_type": "code",
   "execution_count": 9,
   "id": "73c230ab-898a-4df5-8c31-04668a61a82e",
   "metadata": {},
   "outputs": [
    {
     "data": {
      "text/plain": [
       "<AxesSubplot:xlabel='label', ylabel='count'>"
      ]
     },
     "execution_count": 9,
     "metadata": {},
     "output_type": "execute_result"
    },
    {
     "data": {
      "image/png": "[encoded data removed]",
      "text/plain": [
       "<Figure size 432x288 with 1 Axes>"
      ]
     },
     "metadata": {
      "needs_background": "light"
     },
     "output_type": "display_data"
    }
   ],
   "source": [
    "#plot valid data\n",
    "\n",
    "sns.countplot(x='label', data=df_valid)"
   ]
  },
  {
   "cell_type": "code",
   "execution_count": null,
   "id": "943bab36-8b09-49cc-bbaa-acdd5466f3a7",
   "metadata": {},
   "outputs": [],
   "source": [
    "\n"
   ]
  },
  {
   "cell_type": "code",
   "execution_count": 10,
   "id": "cff5491b-a2c9-4bce-90de-a33df4672b46",
   "metadata": {},
   "outputs": [
    {
     "name": "stdout",
     "output_type": "stream",
     "text": [
      "Shape of train data:  (10239, 14)\n",
      "Shape of test data:  (1266, 14)\n",
      "Shape of Validation data:  (1283, 14)\n"
     ]
    }
   ],
   "source": [
    "print(\"Shape of train data: \", df_train.shape)\n",
    "print(\"Shape of test data: \", df_test.shape)\n",
    "print(\"Shape of Validation data: \", df_valid.shape)"
   ]
  },
  {
   "cell_type": "code",
   "execution_count": 12,
   "id": "a85fdf66-06d9-4b08-87da-3b95eef30e70",
   "metadata": {},
   "outputs": [
    {
     "name": "stdout",
     "output_type": "stream",
     "text": [
      "(10239, 12195)\n"
     ]
    }
   ],
   "source": [
    "### Count Vectorizer \n",
    "\n",
    "# Convert text to word count vectors then tokenize\n",
    "Vectorizer = CountVectorizer()\n",
    "train_vec = Vectorizer.fit_transform(df_train['statement'].values)\n",
    "\n",
    "# print(cvec.vocabulary_)\n",
    "# print(cvec.get_feature_names())\n",
    "\n",
    "print(train_vec.shape)\n",
    "# print(type(train_cvec))"
   ]
  },
  {
   "cell_type": "code",
   "execution_count": 16,
   "id": "5529e397-3e8c-4845-8f9f-79b2544791a3",
   "metadata": {},
   "outputs": [
    {
     "name": "stdout",
     "output_type": "stream",
     "text": [
      "(10239, 12195)\n"
     ]
    }
   ],
   "source": [
    "### Tfidf\n",
    "\n",
    "# Calculate inverse document frequencies and tokenize\n",
    "tfidf = TfidfTransformer()\n",
    "train_tfidf_vec = tfidf.fit_transform(train_vec)\n",
    "\n",
    "tfidf.transform(train_tfidf_vec)\n",
    "\n",
    "print(train_tfidf_vec.shape)"
   ]
  },
  {
   "cell_type": "code",
   "execution_count": 19,
   "id": "881a6421-4f48-4aa3-80d8-da329c675225",
   "metadata": {},
   "outputs": [
    {
     "data": {
      "text/html": [
       "<div>\n",
       "<style scoped>\n",
       "    .dataframe tbody tr th:only-of-type {\n",
       "        vertical-align: middle;\n",
       "    }\n",
       "\n",
       "    .dataframe tbody tr th {\n",
       "        vertical-align: top;\n",
       "    }\n",
       "\n",
       "    .dataframe thead th {\n",
       "        text-align: right;\n",
       "    }\n",
       "</style>\n",
       "<table border=\"1\" class=\"dataframe\">\n",
       "  <thead>\n",
       "    <tr style=\"text-align: right;\">\n",
       "      <th></th>\n",
       "      <th>tfidf</th>\n",
       "    </tr>\n",
       "  </thead>\n",
       "  <tbody>\n",
       "    <tr>\n",
       "      <th>started</th>\n",
       "      <td>0.313150</td>\n",
       "    </tr>\n",
       "    <tr>\n",
       "      <th>start started</th>\n",
       "      <td>0.229954</td>\n",
       "    </tr>\n",
       "    <tr>\n",
       "      <th>did decline</th>\n",
       "      <td>0.229954</td>\n",
       "    </tr>\n",
       "    <tr>\n",
       "      <th>started natural</th>\n",
       "      <td>0.229954</td>\n",
       "    </tr>\n",
       "    <tr>\n",
       "      <th>decline coal</th>\n",
       "      <td>0.229954</td>\n",
       "    </tr>\n",
       "    <tr>\n",
       "      <th>...</th>\n",
       "      <td>...</td>\n",
       "    </tr>\n",
       "    <tr>\n",
       "      <th>farm labor</th>\n",
       "      <td>0.000000</td>\n",
       "    </tr>\n",
       "    <tr>\n",
       "      <th>farm kids</th>\n",
       "      <td>0.000000</td>\n",
       "    </tr>\n",
       "    <tr>\n",
       "      <th>farm farm</th>\n",
       "      <td>0.000000</td>\n",
       "    </tr>\n",
       "    <tr>\n",
       "      <th>farm bureau</th>\n",
       "      <td>0.000000</td>\n",
       "    </tr>\n",
       "    <tr>\n",
       "      <th>zuckerbergs personal</th>\n",
       "      <td>0.000000</td>\n",
       "    </tr>\n",
       "  </tbody>\n",
       "</table>\n",
       "<p>80878 rows × 1 columns</p>\n",
       "</div>"
      ],
      "text/plain": [
       "                         tfidf\n",
       "started               0.313150\n",
       "start started         0.229954\n",
       "did decline           0.229954\n",
       "started natural       0.229954\n",
       "decline coal          0.229954\n",
       "...                        ...\n",
       "farm labor            0.000000\n",
       "farm kids             0.000000\n",
       "farm farm             0.000000\n",
       "farm bureau           0.000000\n",
       "zuckerbergs personal  0.000000\n",
       "\n",
       "[80878 rows x 1 columns]"
      ]
     },
     "execution_count": 19,
     "metadata": {},
     "output_type": "execute_result"
    }
   ],
   "source": [
    "# Tfidf with ngrams\n",
    "tfidf_vec = TfidfVectorizer(stop_words='english', ngram_range=(1,2), use_idf=True, smooth_idf=True)\n",
    "tfidf_vec_vectors = tfidf_vec.fit_transform(df_train['statement'].values)\n",
    "\n",
    "# tfidf.vocabulary_\n",
    "first_vector_tfidfvectorizer = tfidf_vec_vectors[0]\n",
    "\n",
    "# place tf-idf values in a pandas data frame\n",
    "df = pd.DataFrame(first_vector_tfidfvectorizer.T.todense(), index=tfidf_vec.get_feature_names(), columns=[\"tfidf\"])\n",
    "df.sort_values(by=[\"tfidf\"],ascending=False)"
   ]
  },
  {
   "cell_type": "code",
   "execution_count": 20,
   "id": "f0bb50da-17d3-4a47-9b07-591a19e213e7",
   "metadata": {},
   "outputs": [
    {
     "name": "stderr",
     "output_type": "stream",
     "text": [
      "[nltk_data] Downloading package treebank to /home/jovyan/nltk_data...\n",
      "[nltk_data]   Unzipping corpora/treebank.zip.\n",
      "[nltk_data] Downloading package universal_tagset to\n",
      "[nltk_data]     /home/jovyan/nltk_data...\n",
      "[nltk_data]   Unzipping taggers/universal_tagset.zip.\n"
     ]
    }
   ],
   "source": [
    "nltk.download('treebank')\n",
    "nltk.download('universal_tagset')\n",
    "# POS tagging using CRF\n",
    "tagged_sentence = nltk.corpus.treebank.tagged_sents(tagset='universal')\n",
    "# print(len(tagged_sentence))\n",
    "\n",
    "# load training sentences\n",
    "training_sentences = df_train['statement']\n",
    "# print(training_sentences)"
   ]
  },
  {
   "cell_type": "code",
   "execution_count": 21,
   "id": "dee8caa7-c6d9-4019-80be-81f7aff54906",
   "metadata": {},
   "outputs": [],
   "source": [
    "from sklearn import metrics"
   ]
  },
  {
   "cell_type": "code",
   "execution_count": 22,
   "id": "7ec4bc8a-59a1-41d3-acd1-441466b64e64",
   "metadata": {},
   "outputs": [
    {
     "name": "stdout",
     "output_type": "stream",
     "text": [
      "0.2559241706161137\n"
     ]
    }
   ],
   "source": [
    "### Implementing Random FOrest with the Count Vectorizer \n",
    "\n",
    "rf_pipeline_cv = Pipeline([('rfCV', Vectorizer),('rf_model', RandomForestClassifier(n_estimators=400, n_jobs=4))])\n",
    "rf_pipeline_cv.fit(df_train['statement'], df_train['label'])\n",
    "predictions_rf = rf_pipeline_cv.predict(df_test['statement'])\n",
    "rf_cv = np.mean(predictions_rf == df_test['label'])\n",
    "\n",
    "macro_avg_precision = metrics.precision_score(df_test['label'], predictions_rf, average = 'macro')\n",
    "\n",
    "\n",
    "print(rf_cv)\n",
    "\n"
   ]
  },
  {
   "cell_type": "code",
   "execution_count": 23,
   "id": "30a2bdfa-8821-4cbe-bb9e-cc719421207b",
   "metadata": {},
   "outputs": [
    {
     "name": "stdout",
     "output_type": "stream",
     "text": [
      "0.2958443795238677\n"
     ]
    }
   ],
   "source": [
    "print(macro_avg_precision)"
   ]
  },
  {
   "cell_type": "code",
   "execution_count": 28,
   "id": "3f2cb823-ffb4-41d3-8321-289c1d050c7c",
   "metadata": {},
   "outputs": [
    {
     "name": "stdout",
     "output_type": "stream",
     "text": [
      "0.2958443795238677\n",
      "0.24723538704581358\n"
     ]
    }
   ],
   "source": [
    "### Implementing Random FOrest with tfdif and ngrams\n",
    "\n",
    "\n",
    "rf_pipeline_tfidf = Pipeline([('rfCV', tfidf_vec),('rf_model', RandomForestClassifier(n_estimators=400, n_jobs=4))])\n",
    "rf_pipeline_tfidf.fit(df_train['statement'], df_train['label'])\n",
    "predictions_tfidf = rf_pipeline_tfidf.predict(df_test['statement'])\n",
    "rf_tfidf = np.mean(predictions_tfidf == df_test['label'])\n",
    "macro_avg_precision = metrics.precision_score(df_test['label'], predictions_rf, average = 'macro')\n",
    "print(macro_avg_precision)\n",
    "\n",
    "print(rf_tfidf)\n"
   ]
  },
  {
   "cell_type": "code",
   "execution_count": 36,
   "id": "67b70ec0-2200-4eb5-88d2-0c3aa5e33b04",
   "metadata": {},
   "outputs": [],
   "source": [
    "from sklearn.model_selection import KFold\n",
    "from sklearn.metrics import confusion_matrix\n",
    "\n",
    "def kfold_cv(X_train, y_train, X_test, y_test, model, n_splits=5, random_state=42):\n",
    "    \n",
    "    kf = KFold(n_splits=n_splits, random_state=random_state, shuffle=True)\n",
    "    scores = []\n",
    "    \n",
    "    for i, (train_index, test_index) in enumerate(kf.split(X_train)):\n",
    "        X_train_fold, X_val_fold = np.array(X_train)[train_index], np.array(X_train)[test_index]\n",
    "        y_train_fold, y_val_fold = np.array(y_train)[train_index], np.array(y_train)[test_index]\n",
    "        \n",
    "        model.fit(X_train_fold, y_train_fold)\n",
    "        y_pred = model.predict(X_val_fold)\n",
    "        score = model.score(X_val_fold, y_val_fold)\n",
    "        scores.append(score)\n",
    "        \n",
    "        cm = confusion_matrix(y_val_fold, y_pred)\n",
    "        print(f\"Fold {i+1} Confusion Matrix:\")\n",
    "        print(cm)\n",
    "    \n",
    "    mean_acc = np.mean(scores)\n",
    "    std_acc = np.std(scores)\n",
    "    \n",
    "    return mean_acc, std_acc"
   ]
  },
  {
   "cell_type": "code",
   "execution_count": 37,
   "id": "f7e64827-9701-4e54-b9bd-1471198ed565",
   "metadata": {},
   "outputs": [
    {
     "name": "stdout",
     "output_type": "stream",
     "text": [
      "Fold 1 Confusion Matrix:\n",
      "[[ 38 138  75  54   4  22]\n",
      " [ 29 185  87  68   3  27]\n",
      " [ 26 137 118 104   1  38]\n",
      " [ 24 107  95 133   0  51]\n",
      " [  8  80  35  22   9   4]\n",
      " [ 12  87  69  97   2  59]]\n",
      "Fold 2 Confusion Matrix:\n",
      "[[ 29 142  76  63   2  18]\n",
      " [ 23 191  77  71   4  19]\n",
      " [ 32 114 120 124   1  29]\n",
      " [ 25 113  79 130   1  52]\n",
      " [ 16  85  26  22  14   8]\n",
      " [ 21  92  66 108   1  54]]\n",
      "Fold 3 Confusion Matrix:\n",
      "[[ 39 133  77  64   2  10]\n",
      " [ 24 194  77  74   1  24]\n",
      " [ 26 147 125  99   0  26]\n",
      " [ 10 110  97 119   0  40]\n",
      " [ 12  69  25  33   9   8]\n",
      " [ 15 133  90 104   0  32]]\n",
      "Fold 4 Confusion Matrix:\n",
      "[[ 32 131  80  58   1  23]\n",
      " [ 24 177  81  81   2  34]\n",
      " [ 33 131 114 102   1  46]\n",
      " [ 16 112  97 129   1  51]\n",
      " [ 14  84  34  24   7  10]\n",
      " [  8  93  75  87   0  55]]\n",
      "Fold 5 Confusion Matrix:\n",
      "[[ 41 114  85  71   1  31]\n",
      " [ 29 193  81  77   2  35]\n",
      " [ 20 120 124 107   0  49]\n",
      " [ 15 104  93 112   1  45]\n",
      " [ 16  93  31  26  11   4]\n",
      " [ 18 104  58  89   1  46]]\n"
     ]
    },
    {
     "data": {
      "text/plain": [
       "(0.25773998534440645, 0.005315053458501467)"
      ]
     },
     "execution_count": 37,
     "metadata": {},
     "output_type": "execute_result"
    }
   ],
   "source": [
    "kfold_cv(df_train['statement'],df_train['label'], df_valid['statement'], df_valid['label'],rf_pipeline_cv,5,42)"
   ]
  },
  {
   "cell_type": "code",
   "execution_count": 38,
   "id": "697569bc-405e-4d47-9e4e-17acc6e1a099",
   "metadata": {},
   "outputs": [
    {
     "name": "stdout",
     "output_type": "stream",
     "text": [
      "Fold 1 Confusion Matrix:\n",
      "[[ 34 119  71  68   4  35]\n",
      " [ 29 168  70  82  11  39]\n",
      " [ 25 145  84 121   7  42]\n",
      " [ 27 136  70 129   3  45]\n",
      " [ 17  61  28  25  16  11]\n",
      " [ 11  95  64 100   7  49]]\n",
      "Fold 2 Confusion Matrix:\n",
      "[[ 39 119  71  64   6  31]\n",
      " [ 32 151  80  73   6  43]\n",
      " [ 35 109  91 136   3  46]\n",
      " [ 28 121  56 127   4  64]\n",
      " [ 19  81  22  17  18  14]\n",
      " [ 29 102  44  97   4  66]]\n",
      "Fold 3 Confusion Matrix:\n",
      "[[ 43 101  78  65   7  31]\n",
      " [ 43 149  78  82   9  33]\n",
      " [ 31 150  99  94   3  46]\n",
      " [ 14 108  84 126   4  40]\n",
      " [ 18  63  29  26  12   8]\n",
      " [ 28 121  66 106   1  52]]\n",
      "Fold 4 Confusion Matrix:\n",
      "[[ 28 136  58  69   3  31]\n",
      " [ 31 160  65  91  12  40]\n",
      " [ 38 133  94 106   6  50]\n",
      " [ 21 112  73 134   4  62]\n",
      " [ 13  71  45  23  10  11]\n",
      " [ 16  96  40 102   1  63]]\n",
      "Fold 5 Confusion Matrix:\n",
      "[[ 39 117  78  77   6  26]\n",
      " [ 43 177  59  87   5  46]\n",
      " [ 33 128  78 121   2  58]\n",
      " [ 22 102  75 114   3  54]\n",
      " [ 17  91  16  32  10  15]\n",
      " [ 27 117  34  81   3  54]]\n"
     ]
    },
    {
     "data": {
      "text/plain": [
       "(0.2357647052088422, 0.0034239761471329257)"
      ]
     },
     "execution_count": 38,
     "metadata": {},
     "output_type": "execute_result"
    }
   ],
   "source": [
    "kfold_cv(df_train['statement'],df_train['label'], df_valid['statement'], df_valid['label'],rf_pipeline_tfidf,5,42)"
   ]
  },
  {
   "cell_type": "code",
   "execution_count": null,
   "id": "09ec7149-7bd9-43af-84d5-25d59c4facdc",
   "metadata": {},
   "outputs": [],
   "source": []
  },
  {
   "cell_type": "code",
   "execution_count": 39,
   "id": "b398067d-3b8e-4237-be71-2404f86fcc7e",
   "metadata": {},
   "outputs": [],
   "source": [
    "# Accuracy metrics\n",
    "# https://www.meaningcloud.com/blog/performance-metrics-for-text-categorization\n",
    "# using macro based precisiom score as a performance metric"
   ]
  },
  {
   "cell_type": "code",
   "execution_count": null,
   "id": "859532a7-173e-4a64-8c9c-8b7a1751207e",
   "metadata": {},
   "outputs": [],
   "source": []
  },
  {
   "cell_type": "code",
   "execution_count": null,
   "id": "7faa6154-e85e-45a5-adb6-677707567b3a",
   "metadata": {},
   "outputs": [],
   "source": []
  },
  {
   "cell_type": "code",
   "execution_count": null,
   "id": "d3f5cbe2-681c-47d3-8a6e-ee6b42e9e3bf",
   "metadata": {},
   "outputs": [],
   "source": [
    "\n"
   ]
  },
  {
   "cell_type": "code",
   "execution_count": null,
   "id": "2b542efd-5fe4-40f3-8805-1fd52dd6d549",
   "metadata": {},
   "outputs": [],
   "source": []
  },
  {
   "cell_type": "code",
   "execution_count": null,
   "id": "b87863b4-3ebd-4a63-a92d-aeae17483177",
   "metadata": {},
   "outputs": [],
   "source": []
  }
 ],
 "metadata": {
  "kernelspec": {
   "display_name": "Python 3 (ipykernel)",
   "language": "python",
   "name": "python3"
  },
  "language_info": {
   "codemirror_mode": {
    "name": "ipython",
    "version": 3
   },
   "file_extension": ".py",
   "mimetype": "text/x-python",
   "name": "python",
   "nbconvert_exporter": "python",
   "pygments_lexer": "ipython3",
   "version": "3.8.12"
  }
 },
 "nbformat": 4,
 "nbformat_minor": 5
}
